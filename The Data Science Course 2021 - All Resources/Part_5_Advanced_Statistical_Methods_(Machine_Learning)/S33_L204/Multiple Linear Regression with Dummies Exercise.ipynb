{
 "cells": [
  {
   "cell_type": "markdown",
   "metadata": {},
   "source": [
    "# Multiple Linear Regression with Dummies - Exercise"
   ]
  },
  {
   "cell_type": "markdown",
   "metadata": {},
   "source": [
    "You are given a real estate dataset. \n",
    "\n",
    "Real estate is one of those examples that every regression course goes through as it is extremely easy to understand and there is a (almost always) certain causal relationship to be found.\n",
    "\n",
    "The data is located in the file: 'real_estate_price_size_year_view.csv'. \n",
    "\n",
    "You are expected to create a multiple linear regression (similar to the one in the lecture), using the new data. \n",
    "\n",
    "In this exercise, the dependent variable is 'price', while the independent variables are 'size', 'year', and 'view'.\n",
    "\n",
    "#### Regarding the 'view' variable:\n",
    "There are two options: 'Sea view' and 'No sea view'. You are expected to create a dummy variable for view and include it in the regression\n",
    "\n",
    "Good luck!"
   ]
  },
  {
   "cell_type": "markdown",
   "metadata": {},
   "source": [
    "## Import the relevant libraries"
   ]
  },
  {
   "cell_type": "code",
   "execution_count": 1,
   "metadata": {},
   "outputs": [],
   "source": [
    "import pandas as pd\n",
    "import numpy as np\n",
    "import statsmodels.api as sm\n",
    "import matplotlib.pyplot as plt\n",
    "import seaborn as sns\n",
    "sns.set()"
   ]
  },
  {
   "cell_type": "markdown",
   "metadata": {},
   "source": [
    "## Load the data"
   ]
  },
  {
   "cell_type": "code",
   "execution_count": 2,
   "metadata": {},
   "outputs": [],
   "source": [
    "raw_data = pd.read_csv('real_estate_price_size_year_view.csv')"
   ]
  },
  {
   "cell_type": "markdown",
   "metadata": {},
   "source": [
    "## Create a dummy variable for 'view'"
   ]
  },
  {
   "cell_type": "code",
   "execution_count": null,
   "metadata": {},
   "outputs": [],
   "source": [
    "data = raw_data.copy()\n",
    "\n",
    "data['view'] = data['view'].map({'No sea view':0,'Sea view':1})"
   ]
  },
  {
   "cell_type": "code",
   "execution_count": 7,
   "metadata": {},
   "outputs": [
    {
     "data": {
      "text/html": [
       "<div>\n",
       "<style scoped>\n",
       "    .dataframe tbody tr th:only-of-type {\n",
       "        vertical-align: middle;\n",
       "    }\n",
       "\n",
       "    .dataframe tbody tr th {\n",
       "        vertical-align: top;\n",
       "    }\n",
       "\n",
       "    .dataframe thead th {\n",
       "        text-align: right;\n",
       "    }\n",
       "</style>\n",
       "<table border=\"1\" class=\"dataframe\">\n",
       "  <thead>\n",
       "    <tr style=\"text-align: right;\">\n",
       "      <th></th>\n",
       "      <th>price</th>\n",
       "      <th>size</th>\n",
       "      <th>year</th>\n",
       "      <th>view</th>\n",
       "    </tr>\n",
       "  </thead>\n",
       "  <tbody>\n",
       "    <tr>\n",
       "      <th>count</th>\n",
       "      <td>100.000000</td>\n",
       "      <td>100.000000</td>\n",
       "      <td>100.000000</td>\n",
       "      <td>100.000000</td>\n",
       "    </tr>\n",
       "    <tr>\n",
       "      <th>mean</th>\n",
       "      <td>292289.470160</td>\n",
       "      <td>853.024200</td>\n",
       "      <td>2012.600000</td>\n",
       "      <td>0.490000</td>\n",
       "    </tr>\n",
       "    <tr>\n",
       "      <th>std</th>\n",
       "      <td>77051.727525</td>\n",
       "      <td>297.941951</td>\n",
       "      <td>4.729021</td>\n",
       "      <td>0.502418</td>\n",
       "    </tr>\n",
       "    <tr>\n",
       "      <th>min</th>\n",
       "      <td>154282.128000</td>\n",
       "      <td>479.750000</td>\n",
       "      <td>2006.000000</td>\n",
       "      <td>0.000000</td>\n",
       "    </tr>\n",
       "    <tr>\n",
       "      <th>25%</th>\n",
       "      <td>234280.148000</td>\n",
       "      <td>643.330000</td>\n",
       "      <td>2009.000000</td>\n",
       "      <td>0.000000</td>\n",
       "    </tr>\n",
       "    <tr>\n",
       "      <th>50%</th>\n",
       "      <td>280590.716000</td>\n",
       "      <td>696.405000</td>\n",
       "      <td>2015.000000</td>\n",
       "      <td>0.000000</td>\n",
       "    </tr>\n",
       "    <tr>\n",
       "      <th>75%</th>\n",
       "      <td>335723.696000</td>\n",
       "      <td>1029.322500</td>\n",
       "      <td>2018.000000</td>\n",
       "      <td>1.000000</td>\n",
       "    </tr>\n",
       "    <tr>\n",
       "      <th>max</th>\n",
       "      <td>500681.128000</td>\n",
       "      <td>1842.510000</td>\n",
       "      <td>2018.000000</td>\n",
       "      <td>1.000000</td>\n",
       "    </tr>\n",
       "  </tbody>\n",
       "</table>\n",
       "</div>"
      ],
      "text/plain": [
       "               price         size         year        view\n",
       "count     100.000000   100.000000   100.000000  100.000000\n",
       "mean   292289.470160   853.024200  2012.600000    0.490000\n",
       "std     77051.727525   297.941951     4.729021    0.502418\n",
       "min    154282.128000   479.750000  2006.000000    0.000000\n",
       "25%    234280.148000   643.330000  2009.000000    0.000000\n",
       "50%    280590.716000   696.405000  2015.000000    0.000000\n",
       "75%    335723.696000  1029.322500  2018.000000    1.000000\n",
       "max    500681.128000  1842.510000  2018.000000    1.000000"
      ]
     },
     "execution_count": 7,
     "metadata": {},
     "output_type": "execute_result"
    }
   ],
   "source": [
    "data.describe()"
   ]
  },
  {
   "cell_type": "markdown",
   "metadata": {},
   "source": [
    "## Create the regression"
   ]
  },
  {
   "cell_type": "markdown",
   "metadata": {},
   "source": [
    "### Declare the dependent and the independent variables"
   ]
  },
  {
   "cell_type": "code",
   "execution_count": 9,
   "metadata": {},
   "outputs": [],
   "source": [
    "y = data['price']\n",
    "x1 = data[['size','year','view']]"
   ]
  },
  {
   "cell_type": "markdown",
   "metadata": {},
   "source": [
    "### Regression"
   ]
  },
  {
   "cell_type": "code",
   "execution_count": 12,
   "metadata": {},
   "outputs": [
    {
     "data": {
      "text/html": [
       "<table class=\"simpletable\">\n",
       "<tr>\n",
       "        <td>Model:</td>               <td>OLS</td>         <td>Adj. R-squared:</td>      <td>0.910</td>  \n",
       "</tr>\n",
       "<tr>\n",
       "  <td>Dependent Variable:</td>       <td>price</td>             <td>AIC:</td>          <td>2297.2007</td>\n",
       "</tr>\n",
       "<tr>\n",
       "         <td>Date:</td>        <td>2024-02-04 21:53</td>        <td>BIC:</td>          <td>2307.6214</td>\n",
       "</tr>\n",
       "<tr>\n",
       "   <td>No. Observations:</td>         <td>100</td>         <td>Log-Likelihood:</td>     <td>-1144.6</td> \n",
       "</tr>\n",
       "<tr>\n",
       "       <td>Df Model:</td>              <td>3</td>           <td>F-statistic:</td>        <td>335.2</td>  \n",
       "</tr>\n",
       "<tr>\n",
       "     <td>Df Residuals:</td>           <td>96</td>        <td>Prob (F-statistic):</td>  <td>1.02e-50</td> \n",
       "</tr>\n",
       "<tr>\n",
       "      <td>R-squared:</td>            <td>0.913</td>            <td>Scale:</td>        <td>5.3349e+08</td>\n",
       "</tr>\n",
       "</table>\n",
       "<table class=\"simpletable\">\n",
       "<tr>\n",
       "    <td></td>        <th>Coef.</th>      <th>Std.Err.</th>      <th>t</th>     <th>P>|t|</th>    <th>[0.025</th>        <th>0.975]</th>    \n",
       "</tr>\n",
       "<tr>\n",
       "  <th>const</th> <td>-5397914.1816</td> <td>993836.9550</td> <td>-5.4314</td> <td>0.0000</td> <td>-7370664.9453</td> <td>-3425163.4178</td>\n",
       "</tr>\n",
       "<tr>\n",
       "  <th>size</th>    <td>223.0316</td>      <td>7.8381</td>    <td>28.4549</td> <td>0.0000</td>   <td>207.4732</td>      <td>238.5901</td>   \n",
       "</tr>\n",
       "<tr>\n",
       "  <th>year</th>    <td>2718.9489</td>    <td>493.5018</td>   <td>5.5095</td>  <td>0.0000</td>   <td>1739.3556</td>     <td>3698.5422</td>  \n",
       "</tr>\n",
       "<tr>\n",
       "  <th>view</th>   <td>56726.0198</td>    <td>4627.6954</td>  <td>12.2579</td> <td>0.0000</td>  <td>47540.1171</td>    <td>65911.9225</td>  \n",
       "</tr>\n",
       "</table>\n",
       "<table class=\"simpletable\">\n",
       "<tr>\n",
       "     <td>Omnibus:</td>    <td>29.224</td>  <td>Durbin-Watson:</td>    <td>1.965</td>\n",
       "</tr>\n",
       "<tr>\n",
       "  <td>Prob(Omnibus):</td>  <td>0.000</td> <td>Jarque-Bera (JB):</td> <td>64.957</td>\n",
       "</tr>\n",
       "<tr>\n",
       "       <td>Skew:</td>      <td>1.088</td>     <td>Prob(JB):</td>      <td>0.000</td>\n",
       "</tr>\n",
       "<tr>\n",
       "     <td>Kurtosis:</td>    <td>6.295</td>  <td>Condition No.:</td>   <td>941885</td>\n",
       "</tr>\n",
       "</table><br/>\n",
       "Notes:<br/>\n",
       "[1] Standard Errors assume that the covariance matrix of the errors is correctly specified.<br/>\n",
       "[2] The condition number is large, 9.42e+05. This might indicate                that there are strong multicollinearity or other numerical                problems."
      ],
      "text/latex": [
       "\\begin{table}\n",
       "\\caption{Results: Ordinary least squares}\n",
       "\\label{}\n",
       "\\begin{center}\n",
       "\\begin{tabular}{llll}\n",
       "\\hline\n",
       "Model:              & OLS              & Adj. R-squared:     & 0.910       \\\\\n",
       "Dependent Variable: & price            & AIC:                & 2297.2007   \\\\\n",
       "Date:               & 2024-02-04 21:53 & BIC:                & 2307.6214   \\\\\n",
       "No. Observations:   & 100              & Log-Likelihood:     & -1144.6     \\\\\n",
       "Df Model:           & 3                & F-statistic:        & 335.2       \\\\\n",
       "Df Residuals:       & 96               & Prob (F-statistic): & 1.02e-50    \\\\\n",
       "R-squared:          & 0.913            & Scale:              & 5.3349e+08  \\\\\n",
       "\\hline\n",
       "\\end{tabular}\n",
       "\\end{center}\n",
       "\n",
       "\\begin{center}\n",
       "\\begin{tabular}{lrrrrrr}\n",
       "\\hline\n",
       "      &         Coef. &    Std.Err. &       t & P$> |$t$|$ &        [0.025 &        0.975]  \\\\\n",
       "\\hline\n",
       "const & -5397914.1816 & 993836.9550 & -5.4314 &      0.0000 & -7370664.9453 & -3425163.4178  \\\\\n",
       "size  &      223.0316 &      7.8381 & 28.4549 &      0.0000 &      207.4732 &      238.5901  \\\\\n",
       "year  &     2718.9489 &    493.5018 &  5.5095 &      0.0000 &     1739.3556 &     3698.5422  \\\\\n",
       "view  &    56726.0198 &   4627.6954 & 12.2579 &      0.0000 &    47540.1171 &    65911.9225  \\\\\n",
       "\\hline\n",
       "\\end{tabular}\n",
       "\\end{center}\n",
       "\n",
       "\\begin{center}\n",
       "\\begin{tabular}{llll}\n",
       "\\hline\n",
       "Omnibus:       & 29.224 & Durbin-Watson:    & 1.965   \\\\\n",
       "Prob(Omnibus): & 0.000  & Jarque-Bera (JB): & 64.957  \\\\\n",
       "Skew:          & 1.088  & Prob(JB):         & 0.000   \\\\\n",
       "Kurtosis:      & 6.295  & Condition No.:    & 941885  \\\\\n",
       "\\hline\n",
       "\\end{tabular}\n",
       "\\end{center}\n",
       "\\end{table}\n",
       "\\bigskip\n",
       "Notes: \\newline \n",
       "[1] Standard Errors assume that the covariance matrix of the errors is correctly specified. \\newline \n",
       "[2] The condition number is large, 9.42e+05. This might indicate                that there are strong multicollinearity or other numerical                problems."
      ],
      "text/plain": [
       "<class 'statsmodels.iolib.summary2.Summary'>\n",
       "\"\"\"\n",
       "                     Results: Ordinary least squares\n",
       "==========================================================================\n",
       "Model:                 OLS                Adj. R-squared:       0.910     \n",
       "Dependent Variable:    price              AIC:                  2297.2007 \n",
       "Date:                  2024-02-04 21:53   BIC:                  2307.6214 \n",
       "No. Observations:      100                Log-Likelihood:       -1144.6   \n",
       "Df Model:              3                  F-statistic:          335.2     \n",
       "Df Residuals:          96                 Prob (F-statistic):   1.02e-50  \n",
       "R-squared:             0.913              Scale:                5.3349e+08\n",
       "--------------------------------------------------------------------------\n",
       "          Coef.       Std.Err.     t    P>|t|      [0.025        0.975]   \n",
       "--------------------------------------------------------------------------\n",
       "const -5397914.1816 993836.9550 -5.4314 0.0000 -7370664.9453 -3425163.4178\n",
       "size       223.0316      7.8381 28.4549 0.0000      207.4732      238.5901\n",
       "year      2718.9489    493.5018  5.5095 0.0000     1739.3556     3698.5422\n",
       "view     56726.0198   4627.6954 12.2579 0.0000    47540.1171    65911.9225\n",
       "--------------------------------------------------------------------------\n",
       "Omnibus:                 29.224          Durbin-Watson:             1.965 \n",
       "Prob(Omnibus):           0.000           Jarque-Bera (JB):          64.957\n",
       "Skew:                    1.088           Prob(JB):                  0.000 \n",
       "Kurtosis:                6.295           Condition No.:             941885\n",
       "==========================================================================\n",
       "Notes:\n",
       "[1] Standard Errors assume that the covariance matrix of the errors is\n",
       "correctly specified.\n",
       "[2] The condition number is large, 9.42e+05. This might indicate\n",
       "that there are strong multicollinearity or other numerical\n",
       "problems.\n",
       "\"\"\""
      ]
     },
     "execution_count": 12,
     "metadata": {},
     "output_type": "execute_result"
    }
   ],
   "source": [
    "x = sm.add_constant(x1)\n",
    "result = sm.OLS(y,x).fit()\n",
    "result.summary2()"
   ]
  },
  {
   "cell_type": "code",
   "execution_count": 21,
   "metadata": {},
   "outputs": [
    {
     "data": {
      "text/plain": [
       "65    265235.051167\n",
       "64    290377.563336\n",
       "11    532118.144648\n",
       "21    203366.079933\n",
       "2     254331.773344\n",
       "24    181726.391529\n",
       "83    289080.099653\n",
       "44    325418.483700\n",
       "81    387811.156605\n",
       "57    423832.993462\n",
       "dtype: float64"
      ]
     },
     "execution_count": 21,
     "metadata": {},
     "output_type": "execute_result"
    }
   ],
   "source": [
    "sample = data.sample(10)\n",
    "sample = sample[['size','year','view']]\n",
    "sample = sm.add_constant(sample)\n",
    "\n",
    "result.predict(sample)\n",
    "\n",
    "sample"
   ]
  }
 ],
 "metadata": {
  "kernelspec": {
   "display_name": "Python 3",
   "language": "python",
   "name": "python3"
  },
  "language_info": {
   "codemirror_mode": {
    "name": "ipython",
    "version": 3
   },
   "file_extension": ".py",
   "mimetype": "text/x-python",
   "name": "python",
   "nbconvert_exporter": "python",
   "pygments_lexer": "ipython3",
   "version": "3.11.7"
  }
 },
 "nbformat": 4,
 "nbformat_minor": 2
}

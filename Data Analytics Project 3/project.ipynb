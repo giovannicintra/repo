{
 "cells": [
  {
   "cell_type": "markdown",
   "metadata": {},
   "source": [
    "# Import Libraries"
   ]
  },
  {
   "cell_type": "code",
   "execution_count": 120,
   "metadata": {},
   "outputs": [],
   "source": [
    "import pandas as pd\n",
    "import numpy as np\n",
    "import matplotlib.pyplot as plt\n",
    "import seaborn as sns\n",
    "from statsmodels.stats.proportion import proportions_ztest, proportion_confint\n",
    "from statsmodels.stats.power import NormalIndPower"
   ]
  },
  {
   "cell_type": "markdown",
   "metadata": {},
   "source": [
    "userid - a unique number that identifies each player.\n",
    "\n",
    "version - whether the player was put in the control group (gate_30 - a gate at level 30) or the test group (gate_40 - a gate at level 40).\n",
    "\n",
    "sum_gamerounds - the number of game rounds played by the player during the first week after installation\n",
    "\n",
    "retention_1 - did the player come back and play 1 day after installing?\n",
    "\n",
    "retention_7 - did the player come back and play 7 days after installing?"
   ]
  },
  {
   "cell_type": "markdown",
   "metadata": {},
   "source": [
    "# Load Data"
   ]
  },
  {
   "cell_type": "code",
   "execution_count": 86,
   "metadata": {},
   "outputs": [
    {
     "name": "stdout",
     "output_type": "stream",
     "text": [
      "<class 'pandas.core.frame.DataFrame'>\n",
      "RangeIndex: 90189 entries, 0 to 90188\n",
      "Data columns (total 5 columns):\n",
      " #   Column          Non-Null Count  Dtype \n",
      "---  ------          --------------  ----- \n",
      " 0   userid          90189 non-null  int64 \n",
      " 1   version         90189 non-null  object\n",
      " 2   sum_gamerounds  90189 non-null  int64 \n",
      " 3   retention_1     90189 non-null  bool  \n",
      " 4   retention_7     90189 non-null  bool  \n",
      "dtypes: bool(2), int64(2), object(1)\n",
      "memory usage: 2.2+ MB\n",
      "None\n"
     ]
    }
   ],
   "source": [
    "df = pd.read_csv('cookie_cats.csv')"
   ]
  },
  {
   "cell_type": "markdown",
   "metadata": {},
   "source": [
    "The dataset has 5 columns, all of them with non-null values. The total size of the dataset is 90,189."
   ]
  },
  {
   "cell_type": "code",
   "execution_count": 3,
   "metadata": {},
   "outputs": [
    {
     "data": {
      "text/html": [
       "<div>\n",
       "<style scoped>\n",
       "    .dataframe tbody tr th:only-of-type {\n",
       "        vertical-align: middle;\n",
       "    }\n",
       "\n",
       "    .dataframe tbody tr th {\n",
       "        vertical-align: top;\n",
       "    }\n",
       "\n",
       "    .dataframe thead th {\n",
       "        text-align: right;\n",
       "    }\n",
       "</style>\n",
       "<table border=\"1\" class=\"dataframe\">\n",
       "  <thead>\n",
       "    <tr style=\"text-align: right;\">\n",
       "      <th></th>\n",
       "      <th>version</th>\n",
       "      <th>userid</th>\n",
       "      <th>sum_gamerounds</th>\n",
       "      <th>retention_1</th>\n",
       "      <th>retention_7</th>\n",
       "    </tr>\n",
       "  </thead>\n",
       "  <tbody>\n",
       "    <tr>\n",
       "      <th>0</th>\n",
       "      <td>gate_30</td>\n",
       "      <td>44700</td>\n",
       "      <td>44700</td>\n",
       "      <td>44700</td>\n",
       "      <td>44700</td>\n",
       "    </tr>\n",
       "    <tr>\n",
       "      <th>1</th>\n",
       "      <td>gate_40</td>\n",
       "      <td>45489</td>\n",
       "      <td>45489</td>\n",
       "      <td>45489</td>\n",
       "      <td>45489</td>\n",
       "    </tr>\n",
       "  </tbody>\n",
       "</table>\n",
       "</div>"
      ],
      "text/plain": [
       "   version  userid  sum_gamerounds  retention_1  retention_7\n",
       "0  gate_30   44700           44700        44700        44700\n",
       "1  gate_40   45489           45489        45489        45489"
      ]
     },
     "execution_count": 3,
     "metadata": {},
     "output_type": "execute_result"
    }
   ],
   "source": [
    "df.groupby(by='version').count().reset_index()"
   ]
  },
  {
   "cell_type": "markdown",
   "metadata": {},
   "source": [
    "The control and test groups are each split to contain approximately 50% of the data points."
   ]
  },
  {
   "cell_type": "markdown",
   "metadata": {},
   "source": [
    "# Descriptive Analysis"
   ]
  },
  {
   "cell_type": "code",
   "execution_count": 94,
   "metadata": {},
   "outputs": [
    {
     "name": "stdout",
     "output_type": "stream",
     "text": [
      "count    90189.000000\n",
      "mean        51.872457\n",
      "std        195.050858\n",
      "min          0.000000\n",
      "25%          5.000000\n",
      "50%         16.000000\n",
      "75%         51.000000\n",
      "max      49854.000000\n",
      "Name: sum_gamerounds, dtype: float64\n",
      "<class 'pandas.core.frame.DataFrame'>\n",
      "RangeIndex: 90189 entries, 0 to 90188\n",
      "Data columns (total 5 columns):\n",
      " #   Column          Non-Null Count  Dtype \n",
      "---  ------          --------------  ----- \n",
      " 0   userid          90189 non-null  int64 \n",
      " 1   version         90189 non-null  object\n",
      " 2   sum_gamerounds  90189 non-null  int64 \n",
      " 3   retention_1     90189 non-null  bool  \n",
      " 4   retention_7     90189 non-null  bool  \n",
      "dtypes: bool(2), int64(2), object(1)\n",
      "memory usage: 2.2+ MB\n",
      "None\n"
     ]
    },
    {
     "data": {
      "image/png": "[encoded data removed]",
      "text/plain": [
       "<Figure size 400x400 with 1 Axes>"
      ]
     },
     "metadata": {},
     "output_type": "display_data"
    }
   ],
   "source": [
    "print(df['sum_gamerounds'].describe())\n",
    "print(df.info())\n",
    "\n",
    "plt.figure(figsize=(4,4))\n",
    "sns.boxplot(\n",
    "    data=df,\n",
    "    y='sum_gamerounds',\n",
    "    x='version'\n",
    ")\n",
    "plt.show()"
   ]
  },
  {
   "cell_type": "markdown",
   "metadata": {},
   "source": [
    "In the control group at gate_30, it is possible to identify one player who played more than 50,000 rounds in one week (the duration of the test). This might indicate the presence of outliers in the dataset. To remove these outliers, I performed data cleaning using the IQR method."
   ]
  },
  {
   "cell_type": "code",
   "execution_count": 106,
   "metadata": {},
   "outputs": [],
   "source": [
    "def remove_outlier(df):\n",
    "    q1 = np.quantile(df['sum_gamerounds'], 0.25)\n",
    "    q3 = np.quantile(df['sum_gamerounds'], 0.75)\n",
    "    iqr = q3 - q1\n",
    "\n",
    "    lower_bound = q1 - 1.5*iqr\n",
    "    upper_bound = q3 + 1.5*iqr\n",
    "\n",
    "    df = df.loc[\n",
    "        (df['sum_gamerounds'] >= lower_bound) & \n",
    "        (df['sum_gamerounds'] <= upper_bound) \n",
    "    ]\n",
    "\n",
    "    return df\n",
    "\n",
    "df_clean = remove_outlier(df)"
   ]
  },
  {
   "cell_type": "code",
   "execution_count": 108,
   "metadata": {},
   "outputs": [
    {
     "name": "stdout",
     "output_type": "stream",
     "text": [
      "count    80012.000000\n",
      "mean        23.979178\n",
      "std         27.481366\n",
      "min          0.000000\n",
      "25%          4.000000\n",
      "50%         13.000000\n",
      "75%         34.000000\n",
      "max        120.000000\n",
      "Name: sum_gamerounds, dtype: float64\n",
      "<class 'pandas.core.frame.DataFrame'>\n",
      "Index: 80012 entries, 0 to 90188\n",
      "Data columns (total 5 columns):\n",
      " #   Column          Non-Null Count  Dtype \n",
      "---  ------          --------------  ----- \n",
      " 0   userid          80012 non-null  int64 \n",
      " 1   version         80012 non-null  object\n",
      " 2   sum_gamerounds  80012 non-null  int64 \n",
      " 3   retention_1     80012 non-null  bool  \n",
      " 4   retention_7     80012 non-null  bool  \n",
      "dtypes: bool(2), int64(2), object(1)\n",
      "memory usage: 2.6+ MB\n",
      "None\n"
     ]
    },
    {
     "data": {
      "image/png": "[encoded data removed]",
      "text/plain": [
       "<Figure size 400x400 with 1 Axes>"
      ]
     },
     "metadata": {},
     "output_type": "display_data"
    }
   ],
   "source": [
    "print(df_clean['sum_gamerounds'].describe())\n",
    "print(df_clean.info())\n",
    "\n",
    "plt.figure(figsize=(4,4))\n",
    "sns.boxplot(\n",
    "    data=df_clean,\n",
    "    y='sum_gamerounds',\n",
    "    x='version'\n",
    ")\n",
    "plt.show()"
   ]
  },
  {
   "cell_type": "markdown",
   "metadata": {},
   "source": [
    "After cleaning the data, some interesting observations can be made:\n",
    "\n",
    "- 25th Percentile: 25% of all users played around 4 rounds before stopping. This could be due to various factors, such as the game's design or players' different expectations regarding the game. Some players might have downloaded the game after seeing advertisements, but found that the actual gameplay did not meet their expectations. Additionally, some players might have downloaded the game expecting something different.\n",
    "\n",
    "- Maximum Number of Rounds: The maximum number of rounds played in this distribution is 120. This suggests that regular players do not play more than 120 rounds, possibly due to limitations in level design or reaching the maximum level available to play. Although the data has been cleaned and there could be more levels available, the number 120 seems reasonable in the real-world context. Only a very few players reach this number of rounds.\n",
    "\n",
    "- 75th Percentile: 75% of players stop at round 34, indicating that many players might stop playing after reaching the advertised gate."
   ]
  },
  {
   "cell_type": "code",
   "execution_count": 112,
   "metadata": {},
   "outputs": [
    {
     "data": {
      "image/png": "[encoded data removed]",
      "text/plain": [
       "<Figure size 640x480 with 1 Axes>"
      ]
     },
     "metadata": {},
     "output_type": "display_data"
    },
    {
     "data": {
      "image/png": "[encoded data removed]",
      "text/plain": [
       "<Figure size 640x480 with 1 Axes>"
      ]
     },
     "metadata": {},
     "output_type": "display_data"
    },
    {
     "data": {
      "image/png": "[encoded data removed]",
      "text/plain": [
       "<Figure size 640x480 with 1 Axes>"
      ]
     },
     "metadata": {},
     "output_type": "display_data"
    },
    {
     "data": {
      "text/html": [
       "<div>\n",
       "<style scoped>\n",
       "    .dataframe tbody tr th:only-of-type {\n",
       "        vertical-align: middle;\n",
       "    }\n",
       "\n",
       "    .dataframe tbody tr th {\n",
       "        vertical-align: top;\n",
       "    }\n",
       "\n",
       "    .dataframe thead th {\n",
       "        text-align: right;\n",
       "    }\n",
       "</style>\n",
       "<table border=\"1\" class=\"dataframe\">\n",
       "  <thead>\n",
       "    <tr style=\"text-align: right;\">\n",
       "      <th></th>\n",
       "      <th>sum_gamerounds</th>\n",
       "      <th>users</th>\n",
       "      <th>total_users</th>\n",
       "      <th>perc_user</th>\n",
       "      <th>cum_perc_user</th>\n",
       "    </tr>\n",
       "  </thead>\n",
       "  <tbody>\n",
       "    <tr>\n",
       "      <th>0</th>\n",
       "      <td>0</td>\n",
       "      <td>3994</td>\n",
       "      <td>80012</td>\n",
       "      <td>0.049918</td>\n",
       "      <td>0.049918</td>\n",
       "    </tr>\n",
       "    <tr>\n",
       "      <th>1</th>\n",
       "      <td>1</td>\n",
       "      <td>5538</td>\n",
       "      <td>80012</td>\n",
       "      <td>0.069215</td>\n",
       "      <td>0.119132</td>\n",
       "    </tr>\n",
       "    <tr>\n",
       "      <th>2</th>\n",
       "      <td>2</td>\n",
       "      <td>4606</td>\n",
       "      <td>80012</td>\n",
       "      <td>0.057566</td>\n",
       "      <td>0.176698</td>\n",
       "    </tr>\n",
       "    <tr>\n",
       "      <th>3</th>\n",
       "      <td>3</td>\n",
       "      <td>3958</td>\n",
       "      <td>80012</td>\n",
       "      <td>0.049468</td>\n",
       "      <td>0.226166</td>\n",
       "    </tr>\n",
       "    <tr>\n",
       "      <th>4</th>\n",
       "      <td>4</td>\n",
       "      <td>3629</td>\n",
       "      <td>80012</td>\n",
       "      <td>0.045356</td>\n",
       "      <td>0.271522</td>\n",
       "    </tr>\n",
       "    <tr>\n",
       "      <th>...</th>\n",
       "      <td>...</td>\n",
       "      <td>...</td>\n",
       "      <td>...</td>\n",
       "      <td>...</td>\n",
       "      <td>...</td>\n",
       "    </tr>\n",
       "    <tr>\n",
       "      <th>116</th>\n",
       "      <td>116</td>\n",
       "      <td>110</td>\n",
       "      <td>80012</td>\n",
       "      <td>0.001375</td>\n",
       "      <td>0.994988</td>\n",
       "    </tr>\n",
       "    <tr>\n",
       "      <th>117</th>\n",
       "      <td>117</td>\n",
       "      <td>97</td>\n",
       "      <td>80012</td>\n",
       "      <td>0.001212</td>\n",
       "      <td>0.996201</td>\n",
       "    </tr>\n",
       "    <tr>\n",
       "      <th>118</th>\n",
       "      <td>118</td>\n",
       "      <td>106</td>\n",
       "      <td>80012</td>\n",
       "      <td>0.001325</td>\n",
       "      <td>0.997525</td>\n",
       "    </tr>\n",
       "    <tr>\n",
       "      <th>119</th>\n",
       "      <td>119</td>\n",
       "      <td>99</td>\n",
       "      <td>80012</td>\n",
       "      <td>0.001237</td>\n",
       "      <td>0.998763</td>\n",
       "    </tr>\n",
       "    <tr>\n",
       "      <th>120</th>\n",
       "      <td>120</td>\n",
       "      <td>99</td>\n",
       "      <td>80012</td>\n",
       "      <td>0.001237</td>\n",
       "      <td>1.000000</td>\n",
       "    </tr>\n",
       "  </tbody>\n",
       "</table>\n",
       "<p>121 rows × 5 columns</p>\n",
       "</div>"
      ],
      "text/plain": [
       "     sum_gamerounds  users  total_users  perc_user  cum_perc_user\n",
       "0                 0   3994        80012   0.049918       0.049918\n",
       "1                 1   5538        80012   0.069215       0.119132\n",
       "2                 2   4606        80012   0.057566       0.176698\n",
       "3                 3   3958        80012   0.049468       0.226166\n",
       "4                 4   3629        80012   0.045356       0.271522\n",
       "..              ...    ...          ...        ...            ...\n",
       "116             116    110        80012   0.001375       0.994988\n",
       "117             117     97        80012   0.001212       0.996201\n",
       "118             118    106        80012   0.001325       0.997525\n",
       "119             119     99        80012   0.001237       0.998763\n",
       "120             120     99        80012   0.001237       1.000000\n",
       "\n",
       "[121 rows x 5 columns]"
      ]
     },
     "execution_count": 112,
     "metadata": {},
     "output_type": "execute_result"
    }
   ],
   "source": [
    "df_perc_game = df_clean.groupby('sum_gamerounds')['userid'].count().reset_index()\n",
    "\n",
    "df_perc_game = df_perc_game.rename(columns={'userid':'users'})\n",
    "\n",
    "df_perc_game['total_users'] = np.sum(df_perc_game['users'])\n",
    "\n",
    "df_perc_game['perc_user'] = df_perc_game['users'] / df_perc_game['total_users']\n",
    "\n",
    "df_perc_game['cum_perc_user'] = df_perc_game['perc_user'].cumsum()\n",
    "\n",
    "sns.scatterplot(\n",
    "    data=df_perc_game[:500],\n",
    "    x='sum_gamerounds',\n",
    "    y='cum_perc_user'\n",
    ")\n",
    "plt.show()\n",
    "\n",
    "\n",
    "sns.histplot(\n",
    "    data=df_clean,\n",
    "    x='sum_gamerounds',\n",
    "    bins=120\n",
    ")\n",
    "\n",
    "plt.show()\n",
    "\n",
    "\n",
    "sns.lineplot(\n",
    "    data=df_perc_game[:500],\n",
    "    x='sum_gamerounds',\n",
    "    y='users')\n",
    "\n",
    "plt.show()\n",
    "\n",
    "\n",
    "df_perc_game"
   ]
  },
  {
   "cell_type": "code",
   "execution_count": 122,
   "metadata": {},
   "outputs": [
    {
     "name": "stdout",
     "output_type": "stream",
     "text": [
      "(array([0.3842967 , 0.37862292]), array([0.39389595, 0.38810814]))\n",
      "n of observation for control : 39638\n",
      "n of observation for treatment : 40374\n",
      "n of sucesses in control and treatment : [15423, 15478] | [0.389096321711489, 0.38336553227324516]\n",
      "z_stats : 1.6646506905825758\n",
      "p-value: 0.09598246591228181\n"
     ]
    }
   ],
   "source": [
    "df_control = df_clean[df_clean['version']=='gate_30']['retention_1']\n",
    "df_treat = df_clean[df_clean['version']=='gate_40']['retention_1']\n",
    "\n",
    "n_control = len(df_control)\n",
    "n_treat = len(df_treat)\n",
    "\n",
    "success= [df_control.sum(),df_treat.sum()]\n",
    "retention = [df_control.sum() / n_control,df_treat.sum() / n_treat]\n",
    "\n",
    "\n",
    "nobs =[n_control,n_treat]\n",
    "\n",
    "z_stats, pval = proportions_ztest(success,nobs=nobs)\n",
    "\n",
    "print(f'n of observation for control : {n_control}')\n",
    "print(f'n of observation for treatment : {n_treat}')\n",
    "print(f'n of sucesses in control and treatment : {success} | {retention}')\n",
    "print(f'z_stats : {z_stats}')\n",
    "print(f'p-value: {pval}')"
   ]
  },
  {
   "cell_type": "markdown",
   "metadata": {},
   "source": [
    "Regarding Retention 1, we observe a decrease in the treatment group (gate_40). Gate_30 shows a retention rate of 38.90%, while gate_40 shows a retention rate of 38.33%, indicating a possible reduction in retention when the gate is applied at level 40. After performing a z-test to determine if the difference is significant, the p-value found is 0.09. Our test was set up with an alpha of 0.05, so we accept the null hypothesis. This means we can say with 95% confidence that the difference is not significant, indicating that changing the gate from level 30 to 40 has no effect on 1-day retention.\n",
    "\n",
    "If we consider a 90% confidence level, we would reject the null hypothesis, confirming with 90% confidence that the difference in retention is significant. Therefore, changing the gate from level 30 to 40 might affect 1-day retention.\n",
    "\n",
    "In the scenario above, the results depend on how conservative the test is. In my opinion, we should always opt for a more conservative approach, reducing the possibility of errors."
   ]
  },
  {
   "cell_type": "code",
   "execution_count": 118,
   "metadata": {},
   "outputs": [
    {
     "name": "stdout",
     "output_type": "stream",
     "text": [
      "n of observation for control : 39638\n",
      "n of observation for treatment : 40374\n",
      "n of sucesses in control and treatment : [4682, 4433] | [0.11811897673949241, 0.10979838509932134]\n",
      "z_stats : 3.7037892049869834\n",
      "p-value: 0.00021240277684542175\n"
     ]
    }
   ],
   "source": [
    "df_control = df_clean[df_clean['version']=='gate_30']['retention_7']\n",
    "df_treat = df_clean[df_clean['version']=='gate_40']['retention_7']\n",
    "\n",
    "n_control = len(df_control)\n",
    "n_treat = len(df_treat)\n",
    "\n",
    "success= [df_control.sum(),df_treat.sum()]\n",
    "retention = [df_control.sum() / n_control,df_treat.sum() / n_treat]\n",
    "\n",
    "\n",
    "nobs =[n_control,n_treat]\n",
    "\n",
    "z_stats,pval = proportions_ztest(success,nobs=nobs)\n",
    "\n",
    "print(f'n of observation for control : {n_control}')\n",
    "print(f'n of observation for treatment : {n_treat}')\n",
    "print(f'n of sucesses in control and treatment : {success} | {retention}')\n",
    "print(f'z_stats : {z_stats}')\n",
    "print(f'p-value: {pval}')"
   ]
  },
  {
   "cell_type": "markdown",
   "metadata": {},
   "source": [
    "Regarding Retention 7, we observe a decrease in the treatment group, indicating a possible reduction in retention when the gate is applied at level 40 after 7 days. After performing a z-test to compare the proportions, the p-value is greater than 0.05, which indicates that we can be 95% certain there is an impact when moving the gate from level 30 to 40 on 7-day retention. Changing the gate to level 40 will decrease retention from 11.8% to 10.9%, nearly a 1% reduction.\n",
    "\n",
    "These results can be explained by the initial excitement players feel when trying a new game, making them more willing to wait a little longer to continue playing. Over time, as the excitement wears off, players become less willing to wait and may stop playing because of the gate. Additionally, players might stop playing the game because they find it boring or too repetitive. Often, people play a game when they first install it and then forget about it. This could also be a factor, as players lose interest in the game over time."
   ]
  }
 ],
 "metadata": {
  "kernelspec": {
   "display_name": "Python 3",
   "language": "python",
   "name": "python3"
  },
  "language_info": {
   "codemirror_mode": {
    "name": "ipython",
    "version": 3
   },
   "file_extension": ".py",
   "mimetype": "text/x-python",
   "name": "python",
   "nbconvert_exporter": "python",
   "pygments_lexer": "ipython3",
   "version": "3.11.7"
  }
 },
 "nbformat": 4,
 "nbformat_minor": 2
}
